{
 "cells": [
  {
   "cell_type": "code",
   "execution_count": 1,
   "metadata": {},
   "outputs": [],
   "source": [
    "import json\n",
    "\n",
    "import numpy as np\n",
    "import geopandas as gpd"
   ]
  },
  {
   "cell_type": "code",
   "execution_count": 2,
   "metadata": {},
   "outputs": [],
   "source": [
    "import shapely.geometry"
   ]
  },
  {
   "cell_type": "markdown",
   "metadata": {},
   "source": [
    "#### Load the data"
   ]
  },
  {
   "cell_type": "code",
   "execution_count": 3,
   "metadata": {},
   "outputs": [],
   "source": [
    "data = json.load(open('../Data/mapaexekuci.cz/okresy.geojson', encoding='utf-8-sig'))\n",
    "data = data['features']"
   ]
  },
  {
   "cell_type": "code",
   "execution_count": 4,
   "metadata": {},
   "outputs": [],
   "source": [
    "pre_gdf = []\n",
    "for entry in data:\n",
    "    name = entry.get('properties').get('r')\n",
    "    geometry = shapely.geometry.asShape(entry.get('geometry'))\n",
    "    \n",
    "    pre_gdf.append([name,geometry])\n",
    "    "
   ]
  },
  {
   "cell_type": "code",
   "execution_count": 5,
   "metadata": {},
   "outputs": [],
   "source": [
    "gdf = gpd.GeoDataFrame(pre_gdf)\n",
    "gdf.columns = ['name','geometry']\n",
    "gdf.crs = {'init': 'epsg:4326'}\n"
   ]
  },
  {
   "cell_type": "markdown",
   "metadata": {},
   "source": [
    "#### Visualise"
   ]
  },
  {
   "cell_type": "code",
   "execution_count": 6,
   "metadata": {},
   "outputs": [],
   "source": [
    "import matplotlib.pyplot as plt"
   ]
  },
  {
   "cell_type": "code",
   "execution_count": 7,
   "metadata": {},
   "outputs": [],
   "source": [
    "# Krovak looks better\n",
    "gdf = gdf.to_crs(epsg='5514')"
   ]
  },
  {
   "cell_type": "code",
   "execution_count": 10,
   "metadata": {},
   "outputs": [],
   "source": [
    "gdf['shouldplot'] = False"
   ]
  },
  {
   "cell_type": "code",
   "execution_count": 55,
   "metadata": {},
   "outputs": [],
   "source": [
    "for i,row in gdf.iterrows():\n",
    "    \n",
    "    gdf.loc[i,'shouldplot'] = True\n",
    "    \n",
    "    fig, ax = plt.subplots(1, figsize=(10, 6))\n",
    "    ax.axis('off')\n",
    "    gdf.plot(column = 'shouldplot', cmap='Blues', ax=ax, linewidth=0.8, edgecolor='#DFDFDF')\n",
    "    \n",
    "    plt.tight_layout()\n",
    "    plt.savefig( r'images/' + str(i) + '.png')\n",
    "    plt.close(fig)\n",
    "    \n",
    "    gdf.loc[i,'shouldplot'] = False"
   ]
  },
  {
   "cell_type": "markdown",
   "metadata": {},
   "source": [
    "#### Generate Anki cards"
   ]
  },
  {
   "cell_type": "code",
   "execution_count": 64,
   "metadata": {},
   "outputs": [],
   "source": [
    "import genanki"
   ]
  },
  {
   "cell_type": "code",
   "execution_count": 65,
   "metadata": {},
   "outputs": [],
   "source": [
    "my_deck = genanki.Deck(\n",
    "  1,            # Unique ID\n",
    "  'Okresy CR')  # Deck name"
   ]
  },
  {
   "cell_type": "code",
   "execution_count": 66,
   "metadata": {},
   "outputs": [],
   "source": [
    "my_model = genanki.Model(\n",
    "  11,\n",
    "  'Map-Answer Model',\n",
    "  fields=[\n",
    "    {'name': 'Question'},\n",
    "    {'name': 'Answer'},\n",
    "  ],\n",
    "  templates=[\n",
    "    {\n",
    "      'name': 'Card 1',\n",
    "      'qfmt': '{{Question}}',\n",
    "      'afmt': '{{FrontSide}}<hr id=\"answer\">{{Answer}}',\n",
    "    },\n",
    "  ])"
   ]
  },
  {
   "cell_type": "code",
   "execution_count": 67,
   "metadata": {},
   "outputs": [],
   "source": [
    "for i in range(len(gdf)):\n",
    "    my_note = genanki.Note(\n",
    "      model = my_model,\n",
    "      fields = ['<center><img src=\"images/' + str(i) + '.png\"></center>', \n",
    "                '<center><font size = \"+3\">' + gdf.loc[i,'name'] + '</font></center>'])\n",
    "\n",
    "    my_deck.add_note(my_note)"
   ]
  },
  {
   "cell_type": "code",
   "execution_count": 68,
   "metadata": {},
   "outputs": [],
   "source": [
    "files = ['images/' + str(x) + '.png' for x in list(range(len(gdf)))]"
   ]
  },
  {
   "cell_type": "code",
   "execution_count": 69,
   "metadata": {},
   "outputs": [],
   "source": [
    "my_package = genanki.Package(my_deck)\n",
    "my_package.media_files = files"
   ]
  },
  {
   "cell_type": "code",
   "execution_count": 70,
   "metadata": {},
   "outputs": [],
   "source": [
    "my_package.write_to_file('Okresy.apkg')"
   ]
  }
 ],
 "metadata": {
  "kernelspec": {
   "display_name": "Python 3",
   "language": "python",
   "name": "python3"
  },
  "language_info": {
   "codemirror_mode": {
    "name": "ipython",
    "version": 3
   },
   "file_extension": ".py",
   "mimetype": "text/x-python",
   "name": "python",
   "nbconvert_exporter": "python",
   "pygments_lexer": "ipython3",
   "version": "3.6.8"
  }
 },
 "nbformat": 4,
 "nbformat_minor": 2
}
